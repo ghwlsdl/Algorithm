{
 "cells": [
  {
   "cell_type": "markdown",
   "metadata": {},
   "source": [
    "# 181~200"
   ]
  },
  {
   "cell_type": "markdown",
   "metadata": {},
   "source": [
    "### 181.\n",
    "아래 표에서 하나의 행을 하나의 리스트로, 총 3개의 리스트를 갖는 이차원 리스트 apart를 정의하라."
   ]
  },
  {
   "cell_type": "code",
   "execution_count": 4,
   "metadata": {},
   "outputs": [
    {
     "name": "stdout",
     "output_type": "stream",
     "text": [
      "[[['101호', ' 102호'], ['201호', ['202호']], ['301호', '302호']]]\n"
     ]
    },
    {
     "data": {
      "text/plain": [
       "list"
      ]
     },
     "execution_count": 4,
     "metadata": {},
     "output_type": "execute_result"
    }
   ],
   "source": [
    "two_dim_list = [[[\"101호\", \" 102호\"], [\"201호\", [\"202호\"]], [\"301호\", \"302호\"]]]\n",
    "\n",
    "print(two_dim_list)\n",
    "\n",
    "type(two_dim_list)"
   ]
  },
  {
   "cell_type": "markdown",
   "metadata": {},
   "source": [
    "### 182.\n",
    "아래 표에서 하나의 열을 하나의 리스트로, 총 2개의 리스트를 갖는 이차원 리스트 stock을 정의하라."
   ]
  },
  {
   "cell_type": "code",
   "execution_count": 6,
   "metadata": {},
   "outputs": [
    {
     "name": "stdout",
     "output_type": "stream",
     "text": [
      "[['시가', 100, 200, 300], ['종가', 80, 210, 300]]\n"
     ]
    },
    {
     "data": {
      "text/plain": [
       "list"
      ]
     },
     "execution_count": 6,
     "metadata": {},
     "output_type": "execute_result"
    }
   ],
   "source": [
    "two_dim_list_stock = [[\"시가\", 100, 200, 300], [\"종가\", 80, 210, 300]]\n",
    "\n",
    "print(two_dim_list_stock)\n",
    "\n",
    "type(two_dim_list_stock)"
   ]
  },
  {
   "cell_type": "markdown",
   "metadata": {},
   "source": [
    "### 183.\n",
    "아래 표를 stock 이름의 딕셔너리로 표현하라.시가를 key로 저장하고, 나머지 같은 열의 데이터를 리스트로 저장해서 value로 저장한다. 종가 역시 key로 저장하고 나머지 같은 열의 데이터를 리스트로 저장해서 value로 저장한다."
   ]
  },
  {
   "cell_type": "code",
   "execution_count": 7,
   "metadata": {},
   "outputs": [
    {
     "name": "stdout",
     "output_type": "stream",
     "text": [
      "{'시가': [100, 200, 300], '종가': [80, 210, 300]}\n"
     ]
    },
    {
     "data": {
      "text/plain": [
       "dict"
      ]
     },
     "execution_count": 7,
     "metadata": {},
     "output_type": "execute_result"
    }
   ],
   "source": [
    "dic_ = { \"시가\" : [100, 200, 300], \"종가\" : [80, 210, 300] }\n",
    "\n",
    "print(dic_)\n",
    "\n",
    "type(dic_)"
   ]
  },
  {
   "cell_type": "markdown",
   "metadata": {},
   "source": [
    "### 184.\n",
    "\n",
    "아래 표를 stock 이라는 이름의 딕셔너리로 표현하라. 날짜를 key로 저장하고, 나머지 같은 행의 데이터를 리스트로 저장해서 value로 저장한다. 첫 열이 날짜이다."
   ]
  },
  {
   "cell_type": "code",
   "execution_count": 8,
   "metadata": {},
   "outputs": [
    {
     "name": "stdout",
     "output_type": "stream",
     "text": [
      "{'10/10': [80, 110, 70, 90], '10/11': [210, 230, 190, 200]} <class 'dict'>\n"
     ]
    }
   ],
   "source": [
    "stock_ = { \"10/10\" : [80, 110, 70, 90], \"10/11\" : [210, 230, 190, 200] }\n",
    "\n",
    "print(stock_, type(stock_))"
   ]
  },
  {
   "cell_type": "markdown",
   "metadata": {},
   "source": [
    "### 185.\n",
    "리스트에 저장된 데이터를 아래와 같이 출력하라.\n",
    "```\n",
    "apart = [ [101, 102], [201, 202], [301, 302] ]\n",
    "```\n",
    "```\n",
    "101 호\n",
    "102 호\n",
    "201 호\n",
    "202 호\n",
    "301 호\n",
    "302 호\n",
    "```"
   ]
  },
  {
   "cell_type": "code",
   "execution_count": 10,
   "metadata": {},
   "outputs": [
    {
     "name": "stdout",
     "output_type": "stream",
     "text": [
      "101호\n",
      "102호\n",
      "201호\n",
      "202호\n",
      "301호\n",
      "302호\n"
     ]
    }
   ],
   "source": [
    "apart = [ [101, 102], [201, 202], [301, 302] ]\n",
    "\n",
    "# 내가 적은 코드\n",
    "for i in apart:\n",
    "    print(str(i[0]) + \"호\", str(i[1]) + \"호\", sep = \"\\n\")\n",
    "\n",
    "# 정답확인 코드\n",
    "for row in apart:\n",
    "    for col in row:\n",
    "        print(col, \"호\")"
   ]
  },
  {
   "cell_type": "code",
   "execution_count": 11,
   "metadata": {},
   "outputs": [
    {
     "name": "stdout",
     "output_type": "stream",
     "text": [
      "101호\n",
      "102호\n",
      "201호\n",
      "202호\n",
      "301호\n",
      "302호\n",
      "time elapsed: 0.0006511211395263672\n"
     ]
    }
   ],
   "source": [
    "from time import time, sleep\n",
    "\n",
    "start = time()\n",
    "\n",
    "apart = [ [101, 102], [201, 202], [301, 302] ]\n",
    "\n",
    "# 내가 적은 코드\n",
    "for i in apart:\n",
    "    print(str(i[0]) + \"호\", str(i[1]) + \"호\", sep = \"\\n\")\n",
    "\n",
    "end = time()\n",
    "\n",
    "print('time elapsed:', end - start)"
   ]
  },
  {
   "cell_type": "code",
   "execution_count": 12,
   "metadata": {},
   "outputs": [
    {
     "name": "stdout",
     "output_type": "stream",
     "text": [
      "101 호\n",
      "102 호\n",
      "201 호\n",
      "202 호\n",
      "301 호\n",
      "302 호\n",
      "time elapsed: 0.0007321834564208984\n"
     ]
    }
   ],
   "source": [
    "from time import time, sleep\n",
    "\n",
    "start = time()\n",
    "\n",
    "apart = [ [101, 102], [201, 202], [301, 302] ]\n",
    "\n",
    "# 정답확인 코드\n",
    "for row in apart:\n",
    "    for col in row:\n",
    "        print(col, \"호\")\n",
    "        \n",
    "end = time()\n",
    "\n",
    "print('time elapsed:', end - start)"
   ]
  },
  {
   "cell_type": "markdown",
   "metadata": {},
   "source": [
    "### 186.\n",
    "리스트에 저장된 데이터를 아래와 같이 출력하라.\n",
    "```\n",
    "apart = [ [101, 102], [201, 202], [301, 302] ]\n",
    "```\n",
    "```\n",
    "301 호\n",
    "302 호\n",
    "201 호\n",
    "202 호\n",
    "101 호\n",
    "102 호\n",
    "```"
   ]
  },
  {
   "cell_type": "code",
   "execution_count": 14,
   "metadata": {},
   "outputs": [
    {
     "name": "stdout",
     "output_type": "stream",
     "text": [
      "301호\n",
      "302호\n",
      "201호\n",
      "202호\n",
      "101호\n",
      "102호\n"
     ]
    }
   ],
   "source": [
    "apart = [ [101, 102], [201, 202], [301, 302] ]\n",
    "\n",
    "for i in apart[::-1]:\n",
    "    print(str(i[0]) + \"호\", str(i[1]) + \"호\", sep= \"\\n\")"
   ]
  },
  {
   "cell_type": "code",
   "execution_count": 15,
   "metadata": {},
   "outputs": [
    {
     "name": "stdout",
     "output_type": "stream",
     "text": [
      "301호\n",
      "302호\n",
      "201호\n",
      "202호\n",
      "101호\n",
      "102호\n",
      "time elapsed: 0.0002510547637939453\n"
     ]
    }
   ],
   "source": [
    "from time import time, sleep\n",
    "\n",
    "start = time()\n",
    "\n",
    "# 내가 적은 코드\n",
    "apart = [ [101, 102], [201, 202], [301, 302] ]\n",
    "\n",
    "for i in apart[::-1]:\n",
    "    print(str(i[0]) + \"호\", str(i[1]) + \"호\", sep= \"\\n\")\n",
    "        \n",
    "end = time()\n",
    "\n",
    "print('time elapsed:', end - start)"
   ]
  },
  {
   "cell_type": "code",
   "execution_count": 16,
   "metadata": {},
   "outputs": [
    {
     "name": "stdout",
     "output_type": "stream",
     "text": [
      "301 호\n",
      "302 호\n",
      "201 호\n",
      "202 호\n",
      "101 호\n",
      "102 호\n",
      "time elapsed: 0.0010821819305419922\n"
     ]
    }
   ],
   "source": [
    "from time import time, sleep\n",
    "\n",
    "start = time()\n",
    "\n",
    "apart = [ [101, 102], [201, 202], [301, 302] ]\n",
    "\n",
    "# 정답확인 코드\n",
    "for row in apart[::-1]:\n",
    "    for col in row:\n",
    "        print(col, \"호\")\n",
    "        \n",
    "end = time()\n",
    "\n",
    "print('time elapsed:', end - start)"
   ]
  },
  {
   "cell_type": "markdown",
   "metadata": {},
   "source": [
    "### 187.\n",
    "리스트에 저장된 데이터를 아래와 같이 출력하라.\n",
    "```\n",
    "apart = [ [101, 102], [201, 202], [301, 302] ]\n",
    "```\n",
    "```\n",
    "302 호\n",
    "301 호\n",
    "202 호\n",
    "201 호\n",
    "102 호\n",
    "101 호\n",
    "```"
   ]
  },
  {
   "cell_type": "code",
   "execution_count": 18,
   "metadata": {},
   "outputs": [
    {
     "name": "stdout",
     "output_type": "stream",
     "text": [
      "302호\n",
      "301호\n",
      "202호\n",
      "201호\n",
      "102호\n",
      "101호\n"
     ]
    }
   ],
   "source": [
    "apart = [ [101, 102], [201, 202], [301, 302] ]\n",
    "\n",
    "# 내가 적은 코드\n",
    "for i in apart[::-1]:\n",
    "    print(str(i[1]) + \"호\", str(i[0]) + \"호\", sep= \"\\n\")\n",
    "    \n",
    "# 정답 확인 코드\n",
    "for row in apart[::-1]:\n",
    "    for col in row[::-1]:\n",
    "        print(col, \"호\")"
   ]
  },
  {
   "cell_type": "markdown",
   "metadata": {},
   "source": [
    "### 188.\n",
    "리스트에 저장된 데이터를 아래와 같이 출력하라.\n",
    "```\n",
    "apart = [ [101, 102], [201, 202], [301, 302] ]\n",
    "```\n",
    "```\n",
    "101 호\n",
    "-----\n",
    "102 호\n",
    "-----\n",
    "201 호\n",
    "-----\n",
    "202 호\n",
    "-----\n",
    "301 호\n",
    "-----\n",
    "302 호\n",
    "-----\n",
    "```"
   ]
  },
  {
   "cell_type": "code",
   "execution_count": 20,
   "metadata": {},
   "outputs": [
    {
     "name": "stdout",
     "output_type": "stream",
     "text": [
      "101 호\n",
      "-----\n",
      "102 호\n",
      "-----\n",
      "201 호\n",
      "-----\n",
      "202 호\n",
      "-----\n",
      "301 호\n",
      "-----\n",
      "302 호\n",
      "-----\n"
     ]
    }
   ],
   "source": [
    "apart = [ [101, 102], [201, 202], [301, 302] ]\n",
    "\n",
    "for row in apart:\n",
    "    for col in row:\n",
    "        print(col, \"호\")\n",
    "        print(\"-----\")"
   ]
  },
  {
   "cell_type": "markdown",
   "metadata": {},
   "source": [
    "###  189.\n",
    "리스트에 저장된 데이터를 아래와 같이 출력하라.\n",
    "```\n",
    "apart = [ [101, 102], [201, 202], [301, 302] ]\n",
    "```\n",
    "```\n",
    "101 호\n",
    "102 호\n",
    "-----\n",
    "201 호\n",
    "202 호\n",
    "-----\n",
    "301 호\n",
    "302 호\n",
    "-----\n",
    "```"
   ]
  },
  {
   "cell_type": "code",
   "execution_count": 21,
   "metadata": {},
   "outputs": [
    {
     "name": "stdout",
     "output_type": "stream",
     "text": [
      "101 호\n",
      "102 호\n",
      "-----\n",
      "201 호\n",
      "202 호\n",
      "-----\n",
      "301 호\n",
      "302 호\n",
      "-----\n"
     ]
    }
   ],
   "source": [
    "apart = [ [101, 102], [201, 202], [301, 302] ]\n",
    "\n",
    "for row in apart:\n",
    "    for col in row:\n",
    "        print(col, \"호\")\n",
    "    print(\"-----\")"
   ]
  },
  {
   "cell_type": "markdown",
   "metadata": {},
   "source": [
    "### 190.\n",
    "리스트에 저장된 데이터를 아래와 같이 출력하라.\n",
    "```\n",
    "apart = [ [101, 102], [201, 202], [301, 302] ]\n",
    "```\n",
    "```\n",
    "101 호\n",
    "102 호\n",
    "201 호\n",
    "202 호\n",
    "301 호\n",
    "302 호\n",
    "-----\n",
    "```"
   ]
  },
  {
   "cell_type": "code",
   "execution_count": 22,
   "metadata": {},
   "outputs": [
    {
     "name": "stdout",
     "output_type": "stream",
     "text": [
      "101 호\n",
      "102 호\n",
      "201 호\n",
      "202 호\n",
      "301 호\n",
      "302 호\n",
      "-----\n"
     ]
    }
   ],
   "source": [
    "apart = [ [101, 102], [201, 202], [301, 302] ]\n",
    "\n",
    "for row in apart:\n",
    "    for col in row:\n",
    "        print(col, \"호\")\n",
    "print(\"-----\")"
   ]
  },
  {
   "cell_type": "markdown",
   "metadata": {},
   "source": [
    "### 191.\n",
    "\n",
    "data에는 매수한 종목들의 OHLC (open/high/low/close) 가격 정보가 바인딩 되어있다.\n",
    "```\n",
    "data = [\n",
    "    [ 2000,  3050,  2050,  1980],\n",
    "    [ 7500,  2050,  2050,  1980],\n",
    "    [15450, 15050, 15550, 14900]\n",
    "]\n",
    "```\n",
    "수수료를 0.014 %로 가정할 때, 각 가격에 수수료를 포함한 가격을 한라인에 하나씩 출력하라.\n",
    "```\n",
    "2000.28\n",
    "3050.427\n",
    "2050.2870000000003\n",
    "..."
   ]
  },
  {
   "cell_type": "code",
   "execution_count": 26,
   "metadata": {},
   "outputs": [
    {
     "name": "stdout",
     "output_type": "stream",
     "text": [
      "2000.28\n",
      "3050.427\n",
      "2050.2870000000003\n",
      "1980.2772\n",
      "7501.05\n",
      "2050.2870000000003\n",
      "2050.2870000000003\n",
      "1980.2772\n",
      "15452.163\n",
      "15052.107\n",
      "15552.177\n",
      "14902.086000000001\n"
     ]
    }
   ],
   "source": [
    "data = [\n",
    "    [ 2000,  3050,  2050,  1980],\n",
    "    [ 7500,  2050,  2050,  1980],\n",
    "    [15450, 15050, 15550, 14900]\n",
    "]\n",
    "\n",
    "for i in data:\n",
    "    for j in i:\n",
    "        print(j * 1.00014)"
   ]
  },
  {
   "cell_type": "markdown",
   "metadata": {},
   "source": [
    "### 192.\n",
    "191번의 출력 결과에 행단위로 \"----\" 구분자를 추가하라."
   ]
  },
  {
   "cell_type": "code",
   "execution_count": 28,
   "metadata": {},
   "outputs": [
    {
     "name": "stdout",
     "output_type": "stream",
     "text": [
      "2000.28\n",
      "3050.427\n",
      "2050.2870000000003\n",
      "1980.2772\n",
      "-----\n",
      "7501.05\n",
      "2050.2870000000003\n",
      "2050.2870000000003\n",
      "1980.2772\n",
      "-----\n",
      "15452.163\n",
      "15052.107\n",
      "15552.177\n",
      "14902.086000000001\n",
      "-----\n"
     ]
    }
   ],
   "source": [
    "data = [\n",
    "    [ 2000,  3050,  2050,  1980],\n",
    "    [ 7500,  2050,  2050,  1980],\n",
    "    [15450, 15050, 15550, 14900]\n",
    "]\n",
    "\n",
    "for i in data:\n",
    "    for j in i:\n",
    "        print(j * 1.00014)\n",
    "    print(\"-----\")"
   ]
  },
  {
   "cell_type": "markdown",
   "metadata": {},
   "source": [
    "### 193.\n",
    "192 번 문제의 결괏값을 result 이름의 리스트에 1차원 배열로 저장하라.\n",
    "```\n",
    ">> print(result)\n",
    "[2000.28, 3050.427, 2050.2870000000003, 1980.2772, 7501.05, 2050.2870000000003, 2050.2870000000003, ...]\n",
    "```"
   ]
  },
  {
   "cell_type": "code",
   "execution_count": 29,
   "metadata": {},
   "outputs": [
    {
     "name": "stdout",
     "output_type": "stream",
     "text": [
      "[2000.28, 3050.427, 2050.2870000000003, 1980.2772, 7501.05, 2050.2870000000003, 2050.2870000000003, 1980.2772, 15452.163, 15052.107, 15552.177, 14902.086000000001]\n"
     ]
    }
   ],
   "source": [
    "result = []\n",
    "\n",
    "for i in data:\n",
    "    for j in i:\n",
    "        result.append(j * 1.00014)\n",
    "        \n",
    "print(result)"
   ]
  },
  {
   "cell_type": "markdown",
   "metadata": {},
   "source": [
    "### 194.\n",
    "\n",
    "191번 문제의 결괏값을 result 이름의 리스트에 2차원 배열로 저장하라. 저장 포맷은 아래와 같다. 각 행에 대한 데이터끼리 리스트에 저장되어야 한다.\n",
    "\n",
    "```\n",
    ">> print(result)\n",
    "[\n",
    " [2000.28, 3050.427, 2050.2870000000003, 1980.2772],\n",
    " [7501.05, 2050.2870000000003, 2050.2870000000003, 1980.2772],\n",
    " [15452.163, 15052.107, 15552.177, 14902.086000000001]\n",
    "]\n",
    "```"
   ]
  },
  {
   "cell_type": "code",
   "execution_count": 30,
   "metadata": {},
   "outputs": [
    {
     "name": "stdout",
     "output_type": "stream",
     "text": [
      "[[2000.28, 3050.427, 2050.2870000000003, 1980.2772], [7501.05, 2050.2870000000003, 2050.2870000000003, 1980.2772], [15452.163, 15052.107, 15552.177, 14902.086000000001]]\n"
     ]
    }
   ],
   "source": [
    "result = []\n",
    "\n",
    "for i in data:\n",
    "    sub = []\n",
    "    for j in i:\n",
    "        sub.append(j * 1.00014)\n",
    "    result.append(sub)\n",
    "        \n",
    "print(result)"
   ]
  },
  {
   "cell_type": "markdown",
   "metadata": {},
   "source": [
    "### 195.\n",
    "\n",
    "ohlc 리스트에는 시가(open), 고가 (high), 저가 (low) , 종가(close)가 날짜별로 저장돼 있다. 화면에 종가데이터를 출력하라.\n",
    "```\n",
    "ohlc = [[\"open\", \"high\", \"low\", \"close\"],\n",
    "        [100, 110, 70, 100],\n",
    "        [200, 210, 180, 190],\n",
    "        [300, 310, 300, 310]]\n",
    "```\n",
    "```\n",
    "100\n",
    "190\n",
    "310\n",
    "```"
   ]
  },
  {
   "cell_type": "code",
   "execution_count": 32,
   "metadata": {},
   "outputs": [
    {
     "name": "stdout",
     "output_type": "stream",
     "text": [
      "100\n",
      "190\n",
      "310\n"
     ]
    }
   ],
   "source": [
    "ohlc = [[\"open\", \"high\", \"low\", \"close\"],\n",
    "        [100, 110, 70, 100],\n",
    "        [200, 210, 180, 190],\n",
    "        [300, 310, 300, 310]]\n",
    "\n",
    "for i in ohlc[1:]:\n",
    "    print(i[3])"
   ]
  },
  {
   "cell_type": "markdown",
   "metadata": {},
   "source": [
    "### 196.\n",
    "\n",
    "ohlc 리스트에는 시가(open), 고가 (high), 저가 (low) , 종가(close)가 날짜별로 저장돼 있다. 종가가 150원보다 큰경우에만 종가를 출력하라.\n",
    "```\n",
    "ohlc = [[\"open\", \"high\", \"low\", \"close\"],\n",
    "        [100, 110, 70, 100],\n",
    "        [200, 210, 180, 190],\n",
    "        [300, 310, 300, 310]]\n",
    "```\n",
    "```\n",
    "190\n",
    "310\n",
    "```"
   ]
  },
  {
   "cell_type": "code",
   "execution_count": 34,
   "metadata": {},
   "outputs": [
    {
     "name": "stdout",
     "output_type": "stream",
     "text": [
      "190\n",
      "310\n"
     ]
    }
   ],
   "source": [
    "for i in ohlc[1:]:\n",
    "    if i[3] > 150:\n",
    "        print(i[3])"
   ]
  },
  {
   "cell_type": "markdown",
   "metadata": {},
   "source": [
    "### 197.\n",
    "\n",
    "ohlc 리스트에는 시가(open), 고가 (high), 저가 (low) , 종가(close)가 날짜별로 저장돼 있다. 종가가 시가 보다 크거나 같은 경우에만 종가를 출력하라.\n",
    "```\n",
    "ohlc = [[\"open\", \"high\", \"low\", \"close\"],\n",
    "        [100, 110, 70, 100],\n",
    "        [200, 210, 180, 190],\n",
    "        [300, 310, 300, 310]]\n",
    "```\n",
    "```\n",
    "100\n",
    "310\n",
    "```"
   ]
  },
  {
   "cell_type": "code",
   "execution_count": 35,
   "metadata": {},
   "outputs": [
    {
     "name": "stdout",
     "output_type": "stream",
     "text": [
      "100\n",
      "310\n"
     ]
    }
   ],
   "source": [
    "for i in ohlc[1:]:\n",
    "    if i[3] >= i[0]:\n",
    "        print(i[3])"
   ]
  },
  {
   "cell_type": "markdown",
   "metadata": {},
   "source": [
    "### 198.\n",
    "ohlc 리스트에는 시가(open), 고가 (high), 저가 (low) , 종가(close)가 날짜별로 저장돼 있다. 고가와 저가의 차이를 변동폭으로 정의할 때 변동폭을 volatility 이름의 리스트에 저장하라.\n",
    "```\n",
    "ohlc = [[\"open\", \"high\", \"low\", \"close\"],\n",
    "        [100, 110, 70, 100],\n",
    "        [200, 210, 180, 190],\n",
    "        [300, 310, 300, 310]]\n",
    "```\n",
    "```\n",
    ">> print(volatility)\n",
    "[40, 30, 10]\n",
    "```"
   ]
  },
  {
   "cell_type": "code",
   "execution_count": 37,
   "metadata": {},
   "outputs": [
    {
     "name": "stdout",
     "output_type": "stream",
     "text": [
      "[40, 30, 10]\n",
      "[40, 30, 10]\n"
     ]
    }
   ],
   "source": [
    "volatility = []\n",
    "\n",
    "for i in ohlc[1:]:\n",
    "    volatility.append(i[1] - i[2])\n",
    "    \n",
    "print(volatility)\n",
    "\n",
    "# 정답 확인 코드\n",
    "volatility = []\n",
    "for i in range(1, len(ohlc)):\n",
    "    volatility.append(ohlc[i][1]-ohlc[i][2])\n",
    "print(volatility)"
   ]
  },
  {
   "cell_type": "markdown",
   "metadata": {},
   "source": [
    "### 199.\n",
    "\n",
    "리스트에는 3일 간의 ohlc 데이터가 저장돼 있다. 종가가 시가보다 높은 날의 변동성 (고가 - 저가)을 화면에 출력하라.\n",
    "```\n",
    "ohlc = [[\"open\", \"high\", \"low\", \"close\"],\n",
    "        [100, 110, 70, 100],\n",
    "        [200, 210, 180, 190],\n",
    "        [300, 310, 300, 310]]\n",
    "```\n",
    "종가가 시가보다 높은 거래일의 OHLC는 [300, 310, 300, 310] 이다. 따라서 이 거래일의 변동성은 10 (310 - 300)이다.\n",
    "```\n",
    "10\n",
    "```"
   ]
  },
  {
   "cell_type": "code",
   "execution_count": 39,
   "metadata": {},
   "outputs": [
    {
     "name": "stdout",
     "output_type": "stream",
     "text": [
      "10\n"
     ]
    }
   ],
   "source": [
    "for i in ohlc[1:]:\n",
    "    if i[3] > i[0]:\n",
    "        print(i[3]-i[2])"
   ]
  },
  {
   "cell_type": "markdown",
   "metadata": {},
   "source": [
    "### 200\n",
    "리스트에는 3일 간의 ohlc 데이터가 저장돼 있다. 시가에 매수해서 종가에 매도 했을 경우 총 수익금을 계산하라.\n",
    "```\n",
    "ohlc = [[\"open\", \"high\", \"low\", \"close\"],\n",
    "        [100, 110, 70, 100],\n",
    "        [200, 210, 180, 190],\n",
    "        [300, 310, 300, 310]]\n",
    "```\n",
    "1일차 수익 0원 (100 - 100), 2일차 수익 -10원 (190 - 200), 3일차 수익 10원 (310 - 300) 이다.\n",
    "\n",
    "```\n",
    "0\n",
    "```"
   ]
  },
  {
   "cell_type": "code",
   "execution_count": 43,
   "metadata": {},
   "outputs": [
    {
     "name": "stdout",
     "output_type": "stream",
     "text": [
      "0\n",
      "-10\n",
      "0\n",
      "0\n"
     ]
    }
   ],
   "source": [
    "profit = 0\n",
    "\n",
    "for i in ohlc[1:]:\n",
    "    profit += (i[3] - i[0])\n",
    "    print(profit)\n",
    "print(profit)"
   ]
  },
  {
   "cell_type": "code",
   "execution_count": null,
   "metadata": {},
   "outputs": [],
   "source": []
  }
 ],
 "metadata": {
  "kernelspec": {
   "display_name": "Python 3.10.3 64-bit",
   "language": "python",
   "name": "python3"
  },
  "language_info": {
   "codemirror_mode": {
    "name": "ipython",
    "version": 3
   },
   "file_extension": ".py",
   "mimetype": "text/x-python",
   "name": "python",
   "nbconvert_exporter": "python",
   "pygments_lexer": "ipython3",
   "version": "3.10.3"
  },
  "orig_nbformat": 4,
  "vscode": {
   "interpreter": {
    "hash": "aee8b7b246df8f9039afb4144a1f6fd8d2ca17a180786b69acc140d282b71a49"
   }
  }
 },
 "nbformat": 4,
 "nbformat_minor": 2
}
