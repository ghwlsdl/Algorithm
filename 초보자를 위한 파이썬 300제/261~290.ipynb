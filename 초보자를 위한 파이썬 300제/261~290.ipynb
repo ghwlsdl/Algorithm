{
 "cells": [
  {
   "cell_type": "markdown",
   "metadata": {},
   "source": [
    "# 261~290\n",
    "---"
   ]
  },
  {
   "cell_type": "markdown",
   "metadata": {},
   "source": [
    "### 261. Stock 클래스 생성\n",
    "주식 종목에 대한 정보를 저장하는 Stock 클래스를 정의해보세요. 클래스는 속성과 메서드를 갖고 있지 않습니다."
   ]
  },
  {
   "cell_type": "code",
   "execution_count": 1,
   "metadata": {},
   "outputs": [],
   "source": [
    "class Stock:\n",
    "    pass"
   ]
  },
  {
   "cell_type": "markdown",
   "metadata": {},
   "source": [
    "### 262. 생성자\n",
    "Stock 클래스의 객체가 생성될 때 종목명과 종목코드를 입력 받을 수 있도록 생성자를 정의해보세요."
   ]
  },
  {
   "cell_type": "code",
   "execution_count": 2,
   "metadata": {},
   "outputs": [
    {
     "name": "stdout",
     "output_type": "stream",
     "text": [
      "삼성전자\n",
      "005930\n"
     ]
    }
   ],
   "source": [
    "class Stock:\n",
    "    def __init__(self,name, code):\n",
    "        self.name = name\n",
    "        self.code = code\n",
    "\n",
    "삼성 = Stock(\"삼성전자\", \"005930\")\n",
    "print(삼성.name)\n",
    "print(삼성.code)"
   ]
  },
  {
   "cell_type": "markdown",
   "metadata": {},
   "source": [
    "### 263. 메서드\n",
    "객체에 종목명을 입력할 수 있는 set_name 메서드를 추가해보세요.\n",
    "```\n",
    "a = Stock(None, None)\n",
    "a.set_name(\"삼성전자\")\n",
    "```"
   ]
  },
  {
   "cell_type": "code",
   "execution_count": 4,
   "metadata": {},
   "outputs": [
    {
     "name": "stdout",
     "output_type": "stream",
     "text": [
      "삼성전자\n"
     ]
    }
   ],
   "source": [
    "class Stock:\n",
    "    def __init__(self, name, code):\n",
    "        self.name = name\n",
    "        self.code = code\n",
    "\n",
    "    def set_name(self, name):\n",
    "        self.name = name\n",
    "\n",
    "a = Stock(None, None)\n",
    "a.set_name(\"삼성전자\")  # Stock.set_name(a, \"삼성전자\")\n",
    "print(a.name)"
   ]
  },
  {
   "cell_type": "markdown",
   "metadata": {},
   "source": [
    "### 264. 메서드\n",
    "객체에 종목코드를 입력할 수 있는 set_code 메서드를 추가해보세요.\n",
    "```\n",
    "a = Stock(None, None)\n",
    "a.set_code(\"005930\")\n",
    "```"
   ]
  },
  {
   "cell_type": "code",
   "execution_count": 6,
   "metadata": {},
   "outputs": [
    {
     "name": "stdout",
     "output_type": "stream",
     "text": [
      "005930\n"
     ]
    }
   ],
   "source": [
    "class Stock:\n",
    "    def __init__(self, name, code):\n",
    "        self.name = name\n",
    "        self.code = code\n",
    "\n",
    "    def set_name(self, name):\n",
    "        self.name = name\n",
    "\n",
    "    def set_code(self, code):\n",
    "        self.code = code\n",
    "\n",
    "a = Stock(None, None)\n",
    "a.set_code(\"005930\")\n",
    "print(a.code)"
   ]
  },
  {
   "cell_type": "markdown",
   "metadata": {},
   "source": [
    "### 265. 메서드\n",
    "종목명과 종목코드를 리턴하는 get_name, get_code 메서드를 추가하세요. 해당 메서드를 사용하여 종목명과 종목코드를 얻고 이를 출력해보세요.\n",
    "```\n",
    "삼성 = Stock(\"삼성전자\", \"005930\")\n",
    "```"
   ]
  },
  {
   "cell_type": "code",
   "execution_count": 8,
   "metadata": {},
   "outputs": [
    {
     "name": "stdout",
     "output_type": "stream",
     "text": [
      "삼성전자\n",
      "005930\n",
      "삼성전자\n",
      "005930\n"
     ]
    }
   ],
   "source": [
    "class Stock:\n",
    "    def __init__(self, name, code):\n",
    "        self.name = name\n",
    "        self.code = code\n",
    "\n",
    "    def set_name(self, name):\n",
    "        self.name = name\n",
    "\n",
    "    def set_code(self, code):\n",
    "        self.code = code\n",
    "\n",
    "    def get_name(self):\n",
    "        return self.name\n",
    "\n",
    "    def get_code(self):\n",
    "        return self.code\n",
    "\n",
    "삼성 = Stock(\"삼성전자\", \"005930\")\n",
    "print(삼성.name)\n",
    "print(삼성.code)\n",
    "print(삼성.get_name())\n",
    "print(삼성.get_code())"
   ]
  },
  {
   "cell_type": "markdown",
   "metadata": {},
   "source": [
    "### 266. 객체의 속성값 업데이트\n",
    "생성자에서 종목명, 종목코드, PER, PBR, 배당수익률을 입력 받을 수 있도록 생성자를 수정하세요. PER, PBR, 배당수익률은 float 타입입니다."
   ]
  },
  {
   "cell_type": "code",
   "execution_count": 9,
   "metadata": {},
   "outputs": [],
   "source": [
    "class Stock:\n",
    "    def __init__(self, name, code, per, pbr, 배당수익률):\n",
    "        self.name = name\n",
    "        self.code = code\n",
    "        self.per = per\n",
    "        self.pbr = pbr\n",
    "        self.배당수익률 = 배당수익률\n",
    "\n",
    "    def set_name(self, name):\n",
    "        self.name = name\n",
    "\n",
    "    def set_code(self, code):\n",
    "        self.code = code\n",
    "\n",
    "    def get_name(self):\n",
    "        return self.name\n",
    "\n",
    "    def get_code(self):\n",
    "        return self.code"
   ]
  },
  {
   "cell_type": "markdown",
   "metadata": {},
   "source": [
    "### 267. 객체 생성\n",
    "266번에서 정의한 생성자를 통해 다음 정보를 갖는 객체를 생성해보세요."
   ]
  },
  {
   "cell_type": "code",
   "execution_count": 10,
   "metadata": {},
   "outputs": [
    {
     "name": "stdout",
     "output_type": "stream",
     "text": [
      "2.83\n"
     ]
    }
   ],
   "source": [
    "삼성 = Stock(\"삼성전자\", \"005930\", 15.79, 1.33, 2.83)\n",
    "print(삼성.배당수익률)"
   ]
  },
  {
   "cell_type": "markdown",
   "metadata": {},
   "source": [
    "### 268. 객체의 속성 수정\n",
    "PER, PBR, 배당수익률은 변경될 수 있는 값입니다. 이 값을 변경할 때 사용하는 set_per, set_pbr, set_dividend 메서드를 추가하세요."
   ]
  },
  {
   "cell_type": "code",
   "execution_count": 11,
   "metadata": {},
   "outputs": [],
   "source": [
    "class Stock:\n",
    "    def __init__(self, name, code, per, pbr, 배당수익률):\n",
    "        self.name = name\n",
    "        self.code = code\n",
    "        self.per = per\n",
    "        self.pbr = pbr\n",
    "        self.배당수익률 = 배당수익률\n",
    "\n",
    "    def set_name(self, name):\n",
    "        self.name = name\n",
    "\n",
    "    def set_code(self, code):\n",
    "        self.code = code\n",
    "\n",
    "    def get_name(self):\n",
    "        return self.name\n",
    "\n",
    "    def get_code(self):\n",
    "        return self.code\n",
    "    \n",
    "    def set_per(self, per):\n",
    "        self.per = per\n",
    "\n",
    "    def set_pbr(self, pbr):\n",
    "        self.pbr = pbr\n",
    "\n",
    "    def set_dividend(self, dividend):\n",
    "        self.dividend = dividend"
   ]
  },
  {
   "cell_type": "markdown",
   "metadata": {},
   "source": [
    "### 269. 객체의 속성 수정\n",
    "267번에서 생성한 객체에 set_per 메서드를 호출하여 per 값을 12.75로 수정해보세요."
   ]
  },
  {
   "cell_type": "code",
   "execution_count": 12,
   "metadata": {},
   "outputs": [
    {
     "name": "stdout",
     "output_type": "stream",
     "text": [
      "12.75\n"
     ]
    }
   ],
   "source": [
    "삼성 = Stock(\"삼성전자\", \"005930\", 15.79, 1.33, 2.83)\n",
    "삼성.set_per(12.75)\n",
    "print(삼성.per)"
   ]
  },
  {
   "cell_type": "markdown",
   "metadata": {},
   "source": [
    "### 270. 여러 종목의 객체 생성\n",
    "아래의 표를 참조하여 3종목에 대해 객체를 생성하고 이를 파이썬 리스트에 저장하세요. 파이썬 리스트에 저장된 각 종목에 대해 for 루프를 통해 종목코드와 PER을 출력해보세요."
   ]
  },
  {
   "cell_type": "code",
   "execution_count": 13,
   "metadata": {},
   "outputs": [
    {
     "name": "stdout",
     "output_type": "stream",
     "text": [
      "005930 15.79\n",
      "005380 8.7\n",
      "066570 317.34\n"
     ]
    }
   ],
   "source": [
    "종목 = []\n",
    "\n",
    "삼성 = Stock(\"삼성전자\", \"005930\", 15.79, 1.33, 2.83)\n",
    "현대차 = Stock(\"현대차\", \"005380\", 8.70, 0.35, 4.27)\n",
    "LG전자 = Stock(\"LG전자\", \"066570\", 317.34, 0.69, 1.37)\n",
    "\n",
    "종목.append(삼성)\n",
    "종목.append(현대차)\n",
    "종목.append(LG전자)\n",
    "\n",
    "for i in 종목:\n",
    "    print(i.code, i.per)        # i-> Stock 클래스의 객체를 바인딩하기 때문"
   ]
  },
  {
   "cell_type": "markdown",
   "metadata": {},
   "source": [
    "### 271. Account 클래스\n",
    "은행에 가서 계좌를 개설하면 은행이름, 예금주, 계좌번호, 잔액이 설정됩니다. Account 클래스를 생성한 후 생성자를 구현해보세요. 생성자에서는 예금주와 초기 잔액만 입력 받습니다. 은행이름은 SC은행으로 계좌번호는 3자리-2자리-6자리 형태로 랜덤하게 생성됩니다.\n",
    "```\n",
    "은행이름: SC은행\n",
    "계좌번호: 111-11-111111\n",
    "```"
   ]
  },
  {
   "cell_type": "code",
   "execution_count": 14,
   "metadata": {},
   "outputs": [
    {
     "name": "stdout",
     "output_type": "stream",
     "text": [
      "이호진\n",
      "100\n",
      "SC은행\n",
      "628-15-668041\n"
     ]
    }
   ],
   "source": [
    "import random\n",
    "\n",
    "class Account:\n",
    "    def __init__(self, name, balance):\n",
    "        self.name = name\n",
    "        self.balance = balance\n",
    "        self.bank = \"SC은행\"\n",
    "        num1 = random.randint(0, 999)\n",
    "        num2 = random.randint(0, 99)\n",
    "        num3 = random.randint(0, 999999)\n",
    "\n",
    "        num1 = str(num1).zfill(3)      # 1 -> '1' -> '001'\n",
    "        num2 = str(num2).zfill(2)      # 1 -> '1' -> '01'\n",
    "        num3 = str(num3).zfill(6)      # 1 -> '1' -> '0000001'\n",
    "        self.account_number = num1 + '-' + num2 + '-' + num3  # 001-01-000001\n",
    "        \n",
    "lee = Account(\"이호진\", 100)\n",
    "print(lee.name)\n",
    "print(lee.balance)\n",
    "print(lee.bank)\n",
    "print(lee.account_number)"
   ]
  },
  {
   "cell_type": "markdown",
   "metadata": {},
   "source": [
    "### 272. 클래스 변수\n",
    "클래스 변수를 사용해서 Account 클래스로부터 생성된 계좌 객체의 개수를 저장하세요."
   ]
  },
  {
   "cell_type": "code",
   "execution_count": 15,
   "metadata": {},
   "outputs": [
    {
     "name": "stdout",
     "output_type": "stream",
     "text": [
      "1\n",
      "2\n"
     ]
    }
   ],
   "source": [
    "import random\n",
    "\n",
    "class Account:\n",
    "    # class variable\n",
    "    account_count = 0\n",
    "\n",
    "    def __init__(self, name, balance):\n",
    "        self.name = name\n",
    "        self.balance = balance\n",
    "        self.bank = \"SC은행\"\n",
    "\n",
    "        num1 = random.randint(0, 999)\n",
    "        num2 = random.randint(0, 99)\n",
    "        num3 = random.randint(0, 999999)\n",
    "\n",
    "        num1 = str(num1).zfill(3)      # 1 -> '1' -> '001'\n",
    "        num2 = str(num2).zfill(2)      # 1 -> '1' -> '01'\n",
    "        num3 = str(num3).zfill(6)      # 1 -> '1' -> '0000001'\n",
    "        self.account_number = num1 + '-' + num2 + '-' + num3  # 001-01-000001\n",
    "\n",
    "        Account.account_count += 1\n",
    "\n",
    "\n",
    "kim = Account(\"김민수\", 100)\n",
    "print(Account.account_count)\n",
    "lee = Account(\"이민수\", 100)\n",
    "print(Account.account_count)"
   ]
  },
  {
   "cell_type": "markdown",
   "metadata": {},
   "source": [
    "### 273. 클래스 변수 출력\n",
    "Account 클래스로부터 생성된 계좌의 개수를 출력하는 get_account_num() 메서드를 추가하세요."
   ]
  },
  {
   "cell_type": "code",
   "execution_count": 16,
   "metadata": {},
   "outputs": [
    {
     "name": "stdout",
     "output_type": "stream",
     "text": [
      "2\n"
     ]
    }
   ],
   "source": [
    "import random\n",
    "\n",
    "class Account:\n",
    "    # class variable\n",
    "    account_count = 0\n",
    "\n",
    "    def __init__(self, name, balance):\n",
    "        self.name = name\n",
    "        self.balance = balance\n",
    "        self.bank = \"SC은행\"\n",
    "\n",
    "        # 3-2-6\n",
    "        num1 = random.randint(0, 999)\n",
    "        num2 = random.randint(0, 99)\n",
    "        num3 = random.randint(0, 999999)\n",
    "\n",
    "        num1 = str(num1).zfill(3)      # 1 -> '1' -> '001'\n",
    "        num2 = str(num2).zfill(2)      # 1 -> '1' -> '01'\n",
    "        num3 = str(num3).zfill(6)      # 1 -> '1' -> '0000001'\n",
    "        self.account_number = num1 + '-' + num2 + '-' + num3  # 001-01-000001\n",
    "        Account.account_count +=1\n",
    "\n",
    "    @classmethod\n",
    "    def get_account_num(cls):\n",
    "        print(cls.account_count)     # Account.account_count\n",
    "\n",
    "\n",
    "kim = Account(\"김민수\", 100)\n",
    "lee = Account(\"이민수\", 100)\n",
    "kim.get_account_num()\n"
   ]
  },
  {
   "cell_type": "markdown",
   "metadata": {},
   "source": [
    "### 274. 입금 메서드\n",
    "Account 클래스에 입금을 위한 deposit 메서드를 추가하세요. 입금은 최소 1원 이상만 가능합니다."
   ]
  },
  {
   "cell_type": "code",
   "execution_count": 17,
   "metadata": {},
   "outputs": [],
   "source": [
    "import random\n",
    "\n",
    "class Account:\n",
    "    # class variable\n",
    "    account_count = 0\n",
    "\n",
    "    def __init__(self, name, balance):\n",
    "        self.name = name\n",
    "        self.balance = balance\n",
    "        self.bank = \"SC은행\"\n",
    "\n",
    "        # 3-2-6\n",
    "        num1 = random.randint(0, 999)\n",
    "        num2 = random.randint(0, 99)\n",
    "        num3 = random.randint(0, 999999)\n",
    "\n",
    "        num1 = str(num1).zfill(3)      # 1 -> '1' -> '001'\n",
    "        num2 = str(num2).zfill(2)      # 1 -> '1' -> '01'\n",
    "        num3 = str(num3).zfill(6)      # 1 -> '1' -> '0000001'\n",
    "        self.account_number = num1 + '-' + num2 + '-' + num3  # 001-01-000001\n",
    "        Account.account_count +=1\n",
    "\n",
    "    @classmethod\n",
    "    def get_account_num(cls):\n",
    "        print(cls.account_count)     # Account.account_count\n",
    "\n",
    "    def deposit(self, amount):\n",
    "        if amount >= 1:\n",
    "            self.balance += amount"
   ]
  },
  {
   "cell_type": "markdown",
   "metadata": {},
   "source": [
    "### 275. 출금 메서드\n",
    "Account 클래스에 출금을 위한 withdraw 메서드를 추가하세요. 출금은 계좌의 잔고 이상으로 출금할 수는 없습니다."
   ]
  },
  {
   "cell_type": "code",
   "execution_count": 18,
   "metadata": {},
   "outputs": [
    {
     "name": "stdout",
     "output_type": "stream",
     "text": [
      "110\n"
     ]
    }
   ],
   "source": [
    "import random\n",
    "\n",
    "\n",
    "class Account:\n",
    "    # class variable\n",
    "    account_count = 0\n",
    "\n",
    "    def __init__(self, name, balance):\n",
    "        self.name = name\n",
    "        self.balance = balance\n",
    "        self.bank = \"SC은행\"\n",
    "\n",
    "        # 3-2-6\n",
    "        num1 = random.randint(0, 999)\n",
    "        num2 = random.randint(0, 99)\n",
    "        num3 = random.randint(0, 999999)\n",
    "\n",
    "        num1 = str(num1).zfill(3)  # 1 -> '1' -> '001'\n",
    "        num2 = str(num2).zfill(2)  # 1 -> '1' -> '01'\n",
    "        num3 = str(num3).zfill(6)  # 1 -> '1' -> '0000001'\n",
    "        self.account_number = num1 + '-' + num2 + '-' + num3  # 001-01-000001\n",
    "        Account.account_count += 1\n",
    "\n",
    "    @classmethod\n",
    "    def get_account_num(cls):\n",
    "        print(cls.account_count)  # Account.account_count\n",
    "\n",
    "    def deposit(self, amount):\n",
    "        if amount >= 1:\n",
    "            self.balance += amount\n",
    "\n",
    "    def withdraw(self, amount):\n",
    "        if self.balance > amount:\n",
    "            self.balance -= amount\n",
    "\n",
    "k = Account(\"kim\", 100)\n",
    "k.deposit(100)\n",
    "k.withdraw(90)\n",
    "print(k.balance)"
   ]
  },
  {
   "cell_type": "markdown",
   "metadata": {},
   "source": [
    "### 276. 정보 출력 메서드\n",
    "Account 인스턴스에 저장된 정보를 출력하는 display_info() 메서드를 추가하세요. 잔고는 세자리마다 쉼표를 출력하세요.\n",
    "\n",
    "```\n",
    "은행이름: SC은행\n",
    "예금주: 파이썬\n",
    "계좌번호: 111-11-111111\n",
    "잔고: 10,000원\n",
    "\n",
    "```"
   ]
  },
  {
   "cell_type": "code",
   "execution_count": 19,
   "metadata": {},
   "outputs": [
    {
     "name": "stdout",
     "output_type": "stream",
     "text": [
      "은행이름:  SC은행\n",
      "예금주:  파이썬\n",
      "계좌번호:  084-69-234245\n",
      "잔고:  10000\n"
     ]
    }
   ],
   "source": [
    "import random\n",
    "\n",
    "\n",
    "class Account:\n",
    "    # class variable\n",
    "    account_count = 0\n",
    "\n",
    "    def __init__(self, name, balance):\n",
    "        self.name = name\n",
    "        self.balance = balance\n",
    "        self.bank = \"SC은행\"\n",
    "\n",
    "        # 3-2-6\n",
    "        num1 = random.randint(0, 999)\n",
    "        num2 = random.randint(0, 99)\n",
    "        num3 = random.randint(0, 999999)\n",
    "\n",
    "        num1 = str(num1).zfill(3)  # 1 -> '1' -> '001'\n",
    "        num2 = str(num2).zfill(2)  # 1 -> '1' -> '01'\n",
    "        num3 = str(num3).zfill(6)  # 1 -> '1' -> '0000001'\n",
    "        self.account_number = num1 + '-' + num2 + '-' + num3  # 001-01-000001\n",
    "        Account.account_count += 1\n",
    "\n",
    "    @classmethod\n",
    "    def get_account_num(cls):\n",
    "        print(cls.account_count)  # Account.account_count\n",
    "\n",
    "    def deposit(self, amount):\n",
    "        if amount >= 1:\n",
    "            self.balance += amount\n",
    "\n",
    "    def withdraw(self, amount):\n",
    "        if self.balance > amount:\n",
    "            self.balance -= amount\n",
    "\n",
    "    def display_info(self):\n",
    "        print(\"은행이름: \", self.bank)\n",
    "        print(\"예금주: \", self.name)\n",
    "        print(\"계좌번호: \", self.account_number)\n",
    "        print(\"잔고: \", self.balance)\n",
    "\n",
    "\n",
    "p = Account(\"파이썬\", 10000)\n",
    "p.display_info()\n"
   ]
  },
  {
   "cell_type": "markdown",
   "metadata": {},
   "source": [
    "### 277 이자 지급하기\n",
    "입금 횟수가 5회가 될 때 잔고를 기준으로 1%의 이자가 잔고에 추가되도록 코드를 변경해보세요."
   ]
  },
  {
   "cell_type": "code",
   "execution_count": 20,
   "metadata": {},
   "outputs": [
    {
     "name": "stdout",
     "output_type": "stream",
     "text": [
      "50500.0\n"
     ]
    }
   ],
   "source": [
    "import random\n",
    "\n",
    "\n",
    "class Account:\n",
    "    # class variable\n",
    "    account_count = 0\n",
    "\n",
    "    def __init__(self, name, balance):\n",
    "        self.deposit_count = 0\n",
    "\n",
    "        self.name = name\n",
    "        self.balance = balance\n",
    "        self.bank = \"SC은행\"\n",
    "\n",
    "        # 3-2-6\n",
    "        num1 = random.randint(0, 999)\n",
    "        num2 = random.randint(0, 99)\n",
    "        num3 = random.randint(0, 999999)\n",
    "\n",
    "        num1 = str(num1).zfill(3)  # 1 -> '1' -> '001'\n",
    "        num2 = str(num2).zfill(2)  # 1 -> '1' -> '01'\n",
    "        num3 = str(num3).zfill(6)  # 1 -> '1' -> '0000001'\n",
    "        self.account_number = num1 + '-' + num2 + '-' + num3  # 001-01-000001\n",
    "        Account.account_count += 1\n",
    "\n",
    "    @classmethod\n",
    "    def get_account_num(cls):\n",
    "        print(cls.account_count)  # Account.account_count\n",
    "\n",
    "    def deposit(self, amount):\n",
    "        if amount >= 1:\n",
    "            self.balance += amount\n",
    "\n",
    "            self.deposit_count += 1\n",
    "            if self.deposit_count % 5 == 0:         # 5, 10, 15\n",
    "                # 이자 지금\n",
    "                self.balance = (self.balance * 1.01)\n",
    "\n",
    "\n",
    "    def withdraw(self, amount):\n",
    "        if self.balance > amount:\n",
    "            self.balance -= amount\n",
    "\n",
    "    def display_info(self):\n",
    "        print(\"은행이름: \", self.bank)\n",
    "        print(\"예금주: \", self.name)\n",
    "        print(\"계좌번호: \", self.account_number)\n",
    "        print(\"잔고: \", self.balance)\n",
    "\n",
    "p = Account(\"파이썬\", 10000)\n",
    "p.deposit(10000)\n",
    "p.deposit(10000)\n",
    "p.deposit(10000)\n",
    "p.deposit(5000)\n",
    "p.deposit(5000)\n",
    "print(p.balance)\n"
   ]
  },
  {
   "cell_type": "markdown",
   "metadata": {},
   "source": [
    "### 278. 여러 객체 생성\n",
    "Account 클래스로부터 3개 이상 인스턴스를 생성하고 생성된 인스턴스를 리스트에 저장해보세요."
   ]
  },
  {
   "cell_type": "code",
   "execution_count": 21,
   "metadata": {},
   "outputs": [
    {
     "name": "stdout",
     "output_type": "stream",
     "text": [
      "[<__main__.Account object at 0x10ae04ca0>, <__main__.Account object at 0x10ae07250>, <__main__.Account object at 0x10ae07580>]\n"
     ]
    }
   ],
   "source": [
    "import random\n",
    "\n",
    "\n",
    "class Account:\n",
    "    # class variable\n",
    "    account_count = 0\n",
    "\n",
    "    def __init__(self, name, balance):\n",
    "        self.deposit_count = 0\n",
    "\n",
    "        self.name = name\n",
    "        self.balance = balance\n",
    "        self.bank = \"SC은행\"\n",
    "\n",
    "        # 3-2-6\n",
    "        num1 = random.randint(0, 999)\n",
    "        num2 = random.randint(0, 99)\n",
    "        num3 = random.randint(0, 999999)\n",
    "\n",
    "        num1 = str(num1).zfill(3)  # 1 -> '1' -> '001'\n",
    "        num2 = str(num2).zfill(2)  # 1 -> '1' -> '01'\n",
    "        num3 = str(num3).zfill(6)  # 1 -> '1' -> '0000001'\n",
    "        self.account_number = num1 + '-' + num2 + '-' + num3  # 001-01-000001\n",
    "        Account.account_count += 1\n",
    "\n",
    "    @classmethod\n",
    "    def get_account_num(cls):\n",
    "        print(cls.account_count)  # Account.account_count\n",
    "\n",
    "    def deposit(self, amount):\n",
    "        if amount >= 1:\n",
    "            self.balance += amount\n",
    "\n",
    "            self.deposit_count += 1\n",
    "            if self.deposit_count % 5 == 0:         # 5, 10, 15\n",
    "                # 이자 지금\n",
    "                self.balance = (self.balance * 1.01)\n",
    "\n",
    "\n",
    "    def withdraw(self, amount):\n",
    "        if self.balance > amount:\n",
    "            self.balance -= amount\n",
    "\n",
    "    def display_info(self):\n",
    "        print(\"은행이름: \", self.bank)\n",
    "        print(\"예금주: \", self.name)\n",
    "        print(\"계좌번호: \", self.account_number)\n",
    "        print(\"잔고: \", self.balance)\n",
    "\n",
    "data = []\n",
    "k = Account(\"KIM\", 10000000)\n",
    "l = Account(\"LEE\", 10000)\n",
    "p = Account(\"PARK\", 10000)\n",
    "\n",
    "data.append(k)\n",
    "data.append(l)\n",
    "data.append(p)\n",
    "\n",
    "print(data)\n"
   ]
  },
  {
   "cell_type": "markdown",
   "metadata": {},
   "source": [
    "### 279. 객체 순회\n",
    "반복문을 통해 리스트에 있는 객체를 순회하면서 잔고가 100만원 이상인 고객의 정보만 출력하세요."
   ]
  },
  {
   "cell_type": "code",
   "execution_count": 22,
   "metadata": {},
   "outputs": [
    {
     "name": "stdout",
     "output_type": "stream",
     "text": [
      "은행이름:  SC은행\n",
      "예금주:  KIM\n",
      "계좌번호:  068-88-538616\n",
      "잔고:  10000000\n"
     ]
    }
   ],
   "source": [
    "import random\n",
    "\n",
    "\n",
    "class Account:\n",
    "    # class variable\n",
    "    account_count = 0\n",
    "\n",
    "    def __init__(self, name, balance):\n",
    "        self.deposit_count = 0\n",
    "\n",
    "        self.name = name\n",
    "        self.balance = balance\n",
    "        self.bank = \"SC은행\"\n",
    "\n",
    "        # 3-2-6\n",
    "        num1 = random.randint(0, 999)\n",
    "        num2 = random.randint(0, 99)\n",
    "        num3 = random.randint(0, 999999)\n",
    "\n",
    "        num1 = str(num1).zfill(3)  # 1 -> '1' -> '001'\n",
    "        num2 = str(num2).zfill(2)  # 1 -> '1' -> '01'\n",
    "        num3 = str(num3).zfill(6)  # 1 -> '1' -> '0000001'\n",
    "        self.account_number = num1 + '-' + num2 + '-' + num3  # 001-01-000001\n",
    "        Account.account_count += 1\n",
    "\n",
    "    @classmethod\n",
    "    def get_account_num(cls):\n",
    "        print(cls.account_count)  # Account.account_count\n",
    "\n",
    "    def deposit(self, amount):\n",
    "        if amount >= 1:\n",
    "            self.balance += amount\n",
    "\n",
    "            self.deposit_count += 1\n",
    "            if self.deposit_count % 5 == 0:         # 5, 10, 15\n",
    "                # 이자 지금\n",
    "                self.balance = (self.balance * 1.01)\n",
    "\n",
    "\n",
    "    def withdraw(self, amount):\n",
    "        if self.balance > amount:\n",
    "            self.balance -= amount\n",
    "\n",
    "    def display_info(self):\n",
    "        print(\"은행이름: \", self.bank)\n",
    "        print(\"예금주: \", self.name)\n",
    "        print(\"계좌번호: \", self.account_number)\n",
    "        print(\"잔고: \", self.balance)\n",
    "\n",
    "data = []\n",
    "k = Account(\"KIM\", 10000000)\n",
    "l = Account(\"LEE\", 10000)\n",
    "p = Account(\"PARK\", 10000)\n",
    "data.append(k)\n",
    "data.append(l)\n",
    "data.append(p)\n",
    "\n",
    "for c in data:\n",
    "    if c.balance >= 1000000:\n",
    "        c.display_info()"
   ]
  },
  {
   "cell_type": "markdown",
   "metadata": {},
   "source": [
    "### 280. 입출금 내역\n",
    "입금과 출금 내역이 기록되도록 코드를 업데이트 하세요. 입금 내역과 출금 내역을 출력하는 deposit_history와 withdraw_history 메서드를 추가하세요."
   ]
  },
  {
   "cell_type": "code",
   "execution_count": 23,
   "metadata": {},
   "outputs": [
    {
     "name": "stdout",
     "output_type": "stream",
     "text": [
      "100\n",
      "200\n",
      "300\n",
      "100\n",
      "200\n"
     ]
    }
   ],
   "source": [
    "import random\n",
    "\n",
    "\n",
    "class Account:\n",
    "    # class variable\n",
    "    account_count = 0\n",
    "\n",
    "    def __init__(self, name, balance):\n",
    "        self.deposit_count = 0\n",
    "        self.deposit_log = []\n",
    "        self.withdraw_log = []\n",
    "\n",
    "        self.name = name\n",
    "        self.balance = balance\n",
    "        self.bank = \"SC은행\"\n",
    "\n",
    "        # 3-2-6\n",
    "        num1 = random.randint(0, 999)\n",
    "        num2 = random.randint(0, 99)\n",
    "        num3 = random.randint(0, 999999)\n",
    "\n",
    "        num1 = str(num1).zfill(3)  # 1 -> '1' -> '001'\n",
    "        num2 = str(num2).zfill(2)  # 1 -> '1' -> '01'\n",
    "        num3 = str(num3).zfill(6)  # 1 -> '1' -> '0000001'\n",
    "        self.account_number = num1 + '-' + num2 + '-' + num3  # 001-01-000001\n",
    "        Account.account_count += 1\n",
    "\n",
    "    @classmethod\n",
    "    def get_account_num(cls):\n",
    "        print(cls.account_count)  # Account.account_count\n",
    "\n",
    "    def deposit(self, amount):\n",
    "        if amount >= 1:\n",
    "            self.deposit_log.append(amount)\n",
    "            self.balance += amount\n",
    "\n",
    "            self.deposit_count += 1\n",
    "            if self.deposit_count % 5 == 0:         # 5, 10, 15\n",
    "                # 이자 지금\n",
    "                self.balance = (self.balance * 1.01)\n",
    "\n",
    "\n",
    "    def withdraw(self, amount):\n",
    "        if self.balance > amount:\n",
    "            self.withdraw_log.append(amount)\n",
    "            self.balance -= amount\n",
    "\n",
    "    def display_info(self):\n",
    "        print(\"은행이름: \", self.bank)\n",
    "        print(\"예금주: \", self.name)\n",
    "        print(\"계좌번호: \", self.account_number)\n",
    "        print(\"잔고: \", self.balance)\n",
    "\n",
    "    def withdraw_history(self):\n",
    "        for amount in self.withdraw_log:\n",
    "            print(amount)\n",
    "\n",
    "    def deposit_history(self):\n",
    "        for amount in self.deposit_log:\n",
    "            print(amount)\n",
    "\n",
    "\n",
    "k = Account(\"Kim\", 1000)\n",
    "k.deposit(100)\n",
    "k.deposit(200)\n",
    "k.deposit(300)\n",
    "k.deposit_history()\n",
    "\n",
    "k.withdraw(100)\n",
    "k.withdraw(200)\n",
    "k.withdraw_history()\n"
   ]
  },
  {
   "cell_type": "markdown",
   "metadata": {},
   "source": [
    "### 281. 클래스 정의\n",
    "다음 코드가 동작하도록 차 클래스를 정의하세요.\n",
    "```\n",
    ">> car = 차(2, 1000)\n",
    ">> car.바퀴\n",
    "2\n",
    ">> car.가격\n",
    "1000\n",
    "```"
   ]
  },
  {
   "cell_type": "code",
   "execution_count": 25,
   "metadata": {},
   "outputs": [
    {
     "name": "stdout",
     "output_type": "stream",
     "text": [
      "2\n",
      "1000\n"
     ]
    }
   ],
   "source": [
    "class 차:\n",
    "    def __init__(self, 바퀴, 가격):\n",
    "        self.바퀴 = 바퀴\n",
    "        self.가격 = 가격\n",
    "\n",
    "car = 차(2, 1000)\n",
    "print(car.바퀴)\n",
    "print(car.가격)"
   ]
  },
  {
   "cell_type": "markdown",
   "metadata": {},
   "source": [
    "### 282. 클래스 상속\n",
    "차 클래스를 상속받은 자전차 클래스를 정의하세요."
   ]
  },
  {
   "cell_type": "code",
   "execution_count": 26,
   "metadata": {},
   "outputs": [],
   "source": [
    "class 차:\n",
    "    def __init__(self, 바퀴, 가격):\n",
    "        self.바퀴 = 바퀴\n",
    "        self.가격 = 가격\n",
    "\n",
    "\n",
    "class 자전차(차):\n",
    "    pass\n"
   ]
  },
  {
   "cell_type": "markdown",
   "metadata": {},
   "source": [
    "### 283. 클래스 상속\n",
    "다음 코드가 동작하도록 자전차 클래스를 정의하세요. 단 자전차 클래스는 차 클래스를 상속받습니다.\n",
    "\n",
    "```\n",
    ">> bicycle = 자전차(2, 100)\n",
    ">> bicycle.가격\n",
    "100\n",
    "```"
   ]
  },
  {
   "cell_type": "code",
   "execution_count": 27,
   "metadata": {},
   "outputs": [
    {
     "name": "stdout",
     "output_type": "stream",
     "text": [
      "100\n"
     ]
    }
   ],
   "source": [
    "class 차:\n",
    "    def __init__(self, 바퀴, 가격):\n",
    "        self.바퀴 = 바퀴\n",
    "        self.가격 = 가격\n",
    "\n",
    "\n",
    "class 자전차(차):\n",
    "    def __init__(self, 바퀴, 가격):\n",
    "        self.바퀴 = 바퀴\n",
    "        self.가격 = 가격\n",
    "\n",
    "\n",
    "bicycle = 자전차(2, 100)\n",
    "print(bicycle.가격)"
   ]
  },
  {
   "cell_type": "markdown",
   "metadata": {},
   "source": [
    "### 284. 클래스 상속\n",
    "다음 코드가 동작하도록 자전차 클래스를 정의하세요. 단 자전차 클래스는 차 클래스를 상속받습니다.\n",
    "\n",
    "```\n",
    ">> bicycle = 자전차(2, 100, \"시마노\")\n",
    ">> bicycle.구동계\n",
    "시마노\n",
    "```"
   ]
  },
  {
   "cell_type": "code",
   "execution_count": 28,
   "metadata": {},
   "outputs": [
    {
     "name": "stdout",
     "output_type": "stream",
     "text": [
      "시마노\n",
      "2\n"
     ]
    }
   ],
   "source": [
    "class 차:\n",
    "    def __init__(self, 바퀴, 가격):\n",
    "        self.바퀴 = 바퀴\n",
    "        self.가격 = 가격\n",
    "\n",
    "\n",
    "class 자전차(차):\n",
    "    def __init__(self, 바퀴, 가격, 구동계):\n",
    "        super().__init__(바퀴, 가격)\n",
    "        #차.__init__(self, 바퀴, 가격)\n",
    "        self.구동계 = 구동계\n",
    "\n",
    "\n",
    "bicycle = 자전차(2, 100, \"시마노\")\n",
    "print(bicycle.구동계)\n",
    "print(bicycle.바퀴)"
   ]
  },
  {
   "cell_type": "markdown",
   "metadata": {},
   "source": [
    "### 285. 클래스 상속\n",
    "다음 코드가 동작하도록 차 클래스를 상속받는 자동차 클래스를 정의하세요.\n",
    "```\n",
    ">> car = 자동차(4, 1000)\n",
    ">> car.정보()\n",
    "바퀴수 4\n",
    "가격 1000\n",
    "```"
   ]
  },
  {
   "cell_type": "code",
   "execution_count": 29,
   "metadata": {},
   "outputs": [
    {
     "name": "stdout",
     "output_type": "stream",
     "text": [
      "바퀴수  4\n",
      "가격  1000\n"
     ]
    }
   ],
   "source": [
    "class 차:\n",
    "    def __init__(self, 바퀴, 가격):\n",
    "        self.바퀴 = 바퀴\n",
    "        self.가격 = 가격\n",
    "\n",
    "\n",
    "class 자동차(차):\n",
    "    def __init__(self, 바퀴, 가격):\n",
    "        super().__init__(바퀴, 가격)\n",
    "\n",
    "    def 정보(self):\n",
    "        print(\"바퀴수 \", self.바퀴)\n",
    "        print(\"가격 \", self.가격)\n",
    "\n",
    "\n",
    "car = 자동차(4, 1000)\n",
    "car.정보()"
   ]
  },
  {
   "cell_type": "markdown",
   "metadata": {},
   "source": [
    "### 286. 부모 클래스 생성자 호출\n",
    "다음 코드가 동작하도록 차 클래스를 수정하세요.\n",
    "```\n",
    ">> bicycle = 자전차(2, 100, \"시마노\")\n",
    ">> bicycle.정보()\n",
    "바퀴수 2\n",
    "가격 100\n",
    "```"
   ]
  },
  {
   "cell_type": "code",
   "execution_count": 30,
   "metadata": {},
   "outputs": [
    {
     "name": "stdout",
     "output_type": "stream",
     "text": [
      "바퀴수  2\n",
      "가격  100\n"
     ]
    }
   ],
   "source": [
    "class 차:\n",
    "    def __init__(self, 바퀴, 가격):\n",
    "        self.바퀴 = 바퀴\n",
    "        self.가격 = 가격\n",
    "\n",
    "    def 정보(self):\n",
    "        print(\"바퀴수 \", self.바퀴)\n",
    "        print(\"가격 \", self.가격)\n",
    "\n",
    "class 자동차(차):\n",
    "    def __init__(self, 바퀴, 가격):\n",
    "        super().__init__(바퀴, 가격)\n",
    "\n",
    "class 자전차(차):\n",
    "    def __init__(self, 바퀴, 가격, 구동계):\n",
    "        super().__init__(바퀴, 가격)\n",
    "        self.구동계 = 구동계\n",
    "\n",
    "bicycle = 자전차(2, 100, \"시마노\")\n",
    "bicycle.정보()"
   ]
  },
  {
   "cell_type": "markdown",
   "metadata": {},
   "source": [
    "### 287. 부모 클래스 메서드 호출\n",
    "자전차의 정보() 메서드로 구동계 정보까지 출력하도록 수정해보세요.\n",
    "\n",
    "```\n",
    ">> bicycle = 자전차(2, 100, \"시마노\")\n",
    ">> bicycle.정보()\n",
    "바퀴수 2\n",
    "가격 100\n",
    "구동계 시마노\n",
    "```"
   ]
  },
  {
   "cell_type": "code",
   "execution_count": 31,
   "metadata": {},
   "outputs": [
    {
     "name": "stdout",
     "output_type": "stream",
     "text": [
      "바퀴수  2\n",
      "가격  100\n",
      "구동계  시마노\n"
     ]
    }
   ],
   "source": [
    "class 차:\n",
    "    def __init__(self, 바퀴, 가격):\n",
    "        self.바퀴 = 바퀴\n",
    "        self.가격 = 가격\n",
    "\n",
    "    def 정보(self):\n",
    "        print(\"바퀴수 \", self.바퀴)\n",
    "        print(\"가격 \", self.가격)\n",
    "\n",
    "class 자동차(차):\n",
    "    def __init__(self, 바퀴, 가격):\n",
    "        super().__init__(바퀴, 가격)\n",
    "\n",
    "class 자전차(차):\n",
    "    def __init__(self, 바퀴, 가격, 구동계):\n",
    "        super().__init__(바퀴, 가격)\n",
    "        self.구동계 = 구동계\n",
    "\n",
    "    def 정보(self):\n",
    "        super().정보()\n",
    "        print(\"구동계 \", self.구동계)\n",
    "\n",
    "bicycle = 자전차(2, 100, \"시마노\")\n",
    "bicycle.정보()"
   ]
  },
  {
   "cell_type": "markdown",
   "metadata": {},
   "source": [
    "### 288. 메서드 오버라이딩\n",
    "다음 코드의 실행 결과를 예상해보세요.\n",
    "\n",
    "```\n",
    "class 부모:\n",
    "  def 호출(self):\n",
    "    print(\"부모호출\")\n",
    "\n",
    "class 자식(부모):\n",
    "  def 호출(self):\n",
    "    print(\"자식호출\")\n",
    "```\n",
    "\n",
    "```\n",
    "나 = 자식()\n",
    "나.호출()\n",
    "```\n"
   ]
  },
  {
   "cell_type": "code",
   "execution_count": 32,
   "metadata": {},
   "outputs": [
    {
     "name": "stdout",
     "output_type": "stream",
     "text": [
      "자식호출\n"
     ]
    }
   ],
   "source": [
    "class 부모:\n",
    "    def 호출(self):\n",
    "        print(\"부모호출\")\n",
    "\n",
    "class 자식(부모):\n",
    "    def 호출(self):\n",
    "        print(\"자식호출\")\n",
    "\n",
    "\n",
    "나 = 자식()\n",
    "나.호출()\n"
   ]
  },
  {
   "cell_type": "markdown",
   "metadata": {},
   "source": [
    "### 289. 생성자\n",
    "다음 코드의 실행 결과를 예상해보세요.\n",
    "```\n",
    "class 부모:\n",
    "  def __init__(self):\n",
    "    print(\"부모생성\")\n",
    "\n",
    "class 자식(부모):\n",
    "  def __init__(self):\n",
    "    print(\"자식생성\")\n",
    "```\n",
    "```\n",
    "나 = 자식()\n",
    "```"
   ]
  },
  {
   "cell_type": "code",
   "execution_count": 33,
   "metadata": {},
   "outputs": [
    {
     "name": "stdout",
     "output_type": "stream",
     "text": [
      "자식생성\n"
     ]
    }
   ],
   "source": [
    "class 부모:\n",
    "    def __init__(self):\n",
    "        print(\"부모생성\")\n",
    "\n",
    "class 자식(부모):\n",
    "    def __init__(self):\n",
    "        print(\"자식생성\")\n",
    "\n",
    "나 = 자식()"
   ]
  },
  {
   "cell_type": "markdown",
   "metadata": {},
   "source": [
    "### 290. 부모클래스 생성자 호출\n",
    "다음 코드의 실행 결과를 예상해보세요.\n",
    "\n",
    "```\n",
    "class 부모:\n",
    "  def __init__(self):\n",
    "    print(\"부모생성\")\n",
    "\n",
    "class 자식(부모):\n",
    "  def __init__(self):\n",
    "    print(\"자식생성\")\n",
    "    super().__init__()\n",
    "\n",
    "나 = 자식()\n",
    "```"
   ]
  },
  {
   "cell_type": "code",
   "execution_count": 34,
   "metadata": {},
   "outputs": [
    {
     "name": "stdout",
     "output_type": "stream",
     "text": [
      "자식생성\n",
      "부모생성\n"
     ]
    }
   ],
   "source": [
    "class 부모:\n",
    "    def __init__(self):\n",
    "        print(\"부모생성\")\n",
    "\n",
    "class 자식(부모):\n",
    "    def __init__(self):\n",
    "        print(\"자식생성\")\n",
    "        super().__init__()\n",
    "\n",
    "나 = 자식()"
   ]
  },
  {
   "cell_type": "code",
   "execution_count": null,
   "metadata": {},
   "outputs": [],
   "source": []
  }
 ],
 "metadata": {
  "kernelspec": {
   "display_name": "Python 3.10.3 64-bit",
   "language": "python",
   "name": "python3"
  },
  "language_info": {
   "codemirror_mode": {
    "name": "ipython",
    "version": 3
   },
   "file_extension": ".py",
   "mimetype": "text/x-python",
   "name": "python",
   "nbconvert_exporter": "python",
   "pygments_lexer": "ipython3",
   "version": "3.10.3"
  },
  "orig_nbformat": 4,
  "vscode": {
   "interpreter": {
    "hash": "aee8b7b246df8f9039afb4144a1f6fd8d2ca17a180786b69acc140d282b71a49"
   }
  }
 },
 "nbformat": 4,
 "nbformat_minor": 2
}
