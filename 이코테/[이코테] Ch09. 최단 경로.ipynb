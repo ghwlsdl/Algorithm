{
 "cells": [
  {
   "cell_type": "code",
   "execution_count": 11,
   "id": "adverse-hayes",
   "metadata": {},
   "outputs": [
    {
     "ename": "ValueError",
     "evalue": "not enough values to unpack (expected 2, got 0)",
     "output_type": "error",
     "traceback": [
      "\u001b[0;31m---------------------------------------------------------------------------\u001b[0m",
      "\u001b[0;31mValueError\u001b[0m                                Traceback (most recent call last)",
      "\u001b[0;32m<ipython-input-11-a827543120f5>\u001b[0m in \u001b[0;36m<module>\u001b[0;34m\u001b[0m\n\u001b[1;32m      4\u001b[0m \u001b[0mINF\u001b[0m \u001b[0;34m=\u001b[0m \u001b[0mint\u001b[0m\u001b[0;34m(\u001b[0m\u001b[0;36m1e9\u001b[0m\u001b[0;34m)\u001b[0m\u001b[0;34m\u001b[0m\u001b[0;34m\u001b[0m\u001b[0m\n\u001b[1;32m      5\u001b[0m \u001b[0;34m\u001b[0m\u001b[0m\n\u001b[0;32m----> 6\u001b[0;31m \u001b[0mn\u001b[0m\u001b[0;34m,\u001b[0m \u001b[0mm\u001b[0m \u001b[0;34m=\u001b[0m \u001b[0mmap\u001b[0m\u001b[0;34m(\u001b[0m\u001b[0mint\u001b[0m\u001b[0;34m,\u001b[0m \u001b[0minput\u001b[0m\u001b[0;34m(\u001b[0m\u001b[0;34m)\u001b[0m\u001b[0;34m.\u001b[0m\u001b[0msplit\u001b[0m\u001b[0;34m(\u001b[0m\u001b[0;34m)\u001b[0m\u001b[0;34m)\u001b[0m  \u001b[0;31m# 노드, 간선의 수\u001b[0m\u001b[0;34m\u001b[0m\u001b[0;34m\u001b[0m\u001b[0m\n\u001b[0m\u001b[1;32m      7\u001b[0m \u001b[0minitial_node\u001b[0m \u001b[0;34m=\u001b[0m \u001b[0mint\u001b[0m\u001b[0;34m(\u001b[0m\u001b[0minput\u001b[0m\u001b[0;34m(\u001b[0m\u001b[0;34m)\u001b[0m\u001b[0;34m)\u001b[0m  \u001b[0;31m# 출발 노드 번호\u001b[0m\u001b[0;34m\u001b[0m\u001b[0;34m\u001b[0m\u001b[0m\n\u001b[1;32m      8\u001b[0m \u001b[0mgraph\u001b[0m \u001b[0;34m=\u001b[0m \u001b[0;34m[\u001b[0m\u001b[0;34m[\u001b[0m\u001b[0;34m]\u001b[0m \u001b[0;32mfor\u001b[0m \u001b[0mi\u001b[0m \u001b[0;32min\u001b[0m \u001b[0mrange\u001b[0m\u001b[0;34m(\u001b[0m\u001b[0mn\u001b[0m \u001b[0;34m+\u001b[0m \u001b[0;36m1\u001b[0m\u001b[0;34m)\u001b[0m\u001b[0;34m]\u001b[0m\u001b[0;34m\u001b[0m\u001b[0;34m\u001b[0m\u001b[0m\n",
      "\u001b[0;31mValueError\u001b[0m: not enough values to unpack (expected 2, got 0)"
     ]
    }
   ],
   "source": [
    "import sys\n",
    "\n",
    "input = sys.stdin.readline\n",
    "INF = int(1e9)\n",
    "\n",
    "n, m = map(int, input().split())  # 노드, 간선의 수\n",
    "initial_node = int(input())  # 출발 노드 번호\n",
    "graph = [[] for i in range(n + 1)]\n",
    "visited = [False] * (n + 1)\n",
    "distances = [INF] * (n + 1)\n",
    "\n",
    "for _ in range(m):\n",
    "    a, b, c = map(int, input().split())  # c: a와 b 사이의 거리\n",
    "    graph[a].append((b, c))\n",
    "\n",
    "\n",
    "def get_node_with_shortest_distance():\n",
    "    min_value = INF\n",
    "    index = 0  # 가장 최단 거리가 짧은 노드\n",
    "    for i in range(1, n + 1):\n",
    "        if distances[i] < min_value and not visited[i]:\n",
    "            min_value = distances[i]\n",
    "            index = i\n",
    "    return index\n",
    "\n",
    "\n",
    "def dijkstra(initial_node):\n",
    "    distances[initial_node] = 0\n",
    "    visited[initial_node] = True\n",
    "    for j in graph[initial_node]:\n",
    "        distances[j[0]] = j[1]\n",
    "    for i in range(n - 1):\n",
    "        current_node = get_node_with_shortest_distance()\n",
    "        visited[current_node] = True\n",
    "        for j in graph[current_node]:\n",
    "            distance = distances[current_node] + j[1]\n",
    "            if distance < distances[j[0]]:\n",
    "                distances[j[0]] = distance\n",
    "\n",
    "\n",
    "dijkstra(initial_node)\n",
    "\n",
    "for i in range(1, n + 1):\n",
    "    if distances[i] == INF:\n",
    "        print(\"INFINITY\")\n",
    "    else:\n",
    "        print(distances[i])"
   ]
  },
  {
   "cell_type": "code",
   "execution_count": 7,
   "id": "occupational-southwest",
   "metadata": {},
   "outputs": [
    {
     "ename": "ValueError",
     "evalue": "not enough values to unpack (expected 2, got 0)",
     "output_type": "error",
     "traceback": [
      "\u001b[0;31m---------------------------------------------------------------------------\u001b[0m",
      "\u001b[0;31mValueError\u001b[0m                                Traceback (most recent call last)",
      "\u001b[0;32m<ipython-input-7-328c1003d940>\u001b[0m in \u001b[0;36m<module>\u001b[0;34m\u001b[0m\n\u001b[1;32m      5\u001b[0m \u001b[0;34m\u001b[0m\u001b[0m\n\u001b[1;32m      6\u001b[0m \u001b[0;31m# 노드의 개수, 간선의 개수를 입력받기\u001b[0m\u001b[0;34m\u001b[0m\u001b[0;34m\u001b[0m\u001b[0;34m\u001b[0m\u001b[0m\n\u001b[0;32m----> 7\u001b[0;31m \u001b[0mn\u001b[0m\u001b[0;34m,\u001b[0m \u001b[0mm\u001b[0m \u001b[0;34m=\u001b[0m \u001b[0mmap\u001b[0m\u001b[0;34m(\u001b[0m\u001b[0mint\u001b[0m\u001b[0;34m,\u001b[0m \u001b[0minput\u001b[0m\u001b[0;34m(\u001b[0m\u001b[0;34m)\u001b[0m\u001b[0;34m.\u001b[0m\u001b[0msplit\u001b[0m\u001b[0;34m(\u001b[0m\u001b[0;34m)\u001b[0m\u001b[0;34m)\u001b[0m\u001b[0;34m\u001b[0m\u001b[0;34m\u001b[0m\u001b[0m\n\u001b[0m\u001b[1;32m      8\u001b[0m \u001b[0;31m# 시작 노드 번호를 입력받기\u001b[0m\u001b[0;34m\u001b[0m\u001b[0;34m\u001b[0m\u001b[0;34m\u001b[0m\u001b[0m\n\u001b[1;32m      9\u001b[0m \u001b[0mstart\u001b[0m \u001b[0;34m=\u001b[0m \u001b[0mint\u001b[0m\u001b[0;34m(\u001b[0m\u001b[0minput\u001b[0m\u001b[0;34m(\u001b[0m\u001b[0;34m)\u001b[0m\u001b[0;34m)\u001b[0m\u001b[0;34m\u001b[0m\u001b[0;34m\u001b[0m\u001b[0m\n",
      "\u001b[0;31mValueError\u001b[0m: not enough values to unpack (expected 2, got 0)"
     ]
    }
   ],
   "source": [
    "import heapq\n",
    "import sys\n",
    "input = sys.stdin.readline\n",
    "INF = int(1e9) # 무한을 의미하는 값으로 10억을 설정\n",
    "\n",
    "# 노드의 개수, 간선의 개수를 입력받기\n",
    "n, m = map(int, input().split())\n",
    "# 시작 노드 번호를 입력받기\n",
    "start = int(input())\n",
    "# 각 노드에 연결되어 있는 노드에 대한 정보를 담는 리스트를 만들기\n",
    "graph = [[] for i in range(n + 1)]\n",
    "# 최단 거리 테이블을 모두 무한으로 초기화\n",
    "distance = [INF] * (n + 1)\n",
    "\n",
    "# 모든 간선 정보를 입력받기\n",
    "for _ in range(m):\n",
    "    a, b, c = map(int, input().split())\n",
    "    # a번 노드에서 b번 노드로 가는 비용이 c라는 의미\n",
    "    graph[a].append((b, c))\n",
    "\n",
    "def dijkstra(start):\n",
    "    q = []\n",
    "    # 시작 노드로 가기 위한 최단 경로는 0으로 설정하여, 큐에 삽입\n",
    "    heapq.heappush(q, (0, start))\n",
    "    distance[start] = 0\n",
    "    while q: # 큐가 비어있지 않다면\n",
    "        # 가장 최단 거리가 짧은 노드에 대한 정보 꺼내기\n",
    "        dist, now = heapq.heappop(q)\n",
    "        # 현재 노드가 이미 처리된 적이 있는 노드라면 무시\n",
    "        if distance[now] < dist:\n",
    "            continue\n",
    "        # 현재 노드와 연결된 다른 인접한 노드들을 확인\n",
    "        for i in graph[now]:\n",
    "            cost = dist + i[1]\n",
    "            # 현재 노드를 거쳐서, 다른 노드로 이동하는 거리가 더 짧은 경우\n",
    "            if cost < distance[i[0]]:\n",
    "                distance[i[0]] = cost\n",
    "                heapq.heappush(q, (cost, i[0]))\n",
    "\n",
    "# 다익스트라 알고리즘을 수행\n",
    "dijkstra(start)\n",
    "\n",
    "# 모든 노드로 가기 위한 최단 거리를 출력\n",
    "for i in range(1, n + 1):\n",
    "    # 도달할 수 없는 경우, 무한(INFINITY)이라고 출력\n",
    "    if distance[i] == INF:\n",
    "        print(\"INFINITY\")\n",
    "    # 도달할 수 있는 경우 거리를 출력\n",
    "    else:\n",
    "        print(distance[i])"
   ]
  },
  {
   "cell_type": "code",
   "execution_count": 8,
   "id": "green-sleeve",
   "metadata": {},
   "outputs": [
    {
     "ename": "ValueError",
     "evalue": "invalid literal for int() with base 10: ''",
     "output_type": "error",
     "traceback": [
      "\u001b[0;31m---------------------------------------------------------------------------\u001b[0m",
      "\u001b[0;31mValueError\u001b[0m                                Traceback (most recent call last)",
      "\u001b[0;32m<ipython-input-8-4b1c3bd452a3>\u001b[0m in \u001b[0;36m<module>\u001b[0;34m\u001b[0m\n\u001b[1;32m      2\u001b[0m \u001b[0;34m\u001b[0m\u001b[0m\n\u001b[1;32m      3\u001b[0m \u001b[0;31m# 노드의 개수 및 간선의 개수를 입력받기\u001b[0m\u001b[0;34m\u001b[0m\u001b[0;34m\u001b[0m\u001b[0;34m\u001b[0m\u001b[0m\n\u001b[0;32m----> 4\u001b[0;31m \u001b[0mn\u001b[0m \u001b[0;34m=\u001b[0m \u001b[0mint\u001b[0m\u001b[0;34m(\u001b[0m\u001b[0minput\u001b[0m\u001b[0;34m(\u001b[0m\u001b[0;34m)\u001b[0m\u001b[0;34m)\u001b[0m\u001b[0;34m\u001b[0m\u001b[0;34m\u001b[0m\u001b[0m\n\u001b[0m\u001b[1;32m      5\u001b[0m \u001b[0mm\u001b[0m \u001b[0;34m=\u001b[0m \u001b[0mint\u001b[0m\u001b[0;34m(\u001b[0m\u001b[0minput\u001b[0m\u001b[0;34m(\u001b[0m\u001b[0;34m)\u001b[0m\u001b[0;34m)\u001b[0m\u001b[0;34m\u001b[0m\u001b[0;34m\u001b[0m\u001b[0m\n\u001b[1;32m      6\u001b[0m \u001b[0;31m# 2차원 리스트(그래프 표현)를 만들고, 모든 값을 무한으로 초기화\u001b[0m\u001b[0;34m\u001b[0m\u001b[0;34m\u001b[0m\u001b[0;34m\u001b[0m\u001b[0m\n",
      "\u001b[0;31mValueError\u001b[0m: invalid literal for int() with base 10: ''"
     ]
    }
   ],
   "source": [
    "INF = int(1e9) # 무한을 의미하는 값으로 10억을 설정\n",
    "\n",
    "# 노드의 개수 및 간선의 개수를 입력받기\n",
    "n = int(input())\n",
    "m = int(input())\n",
    "# 2차원 리스트(그래프 표현)를 만들고, 모든 값을 무한으로 초기화\n",
    "graph = [[INF] * (n + 1) for _ in range(n + 1)]\n",
    "\n",
    "# 자기 자신에서 자기 자신으로 가는 비용은 0으로 초기화\n",
    "for a in range(1, n + 1):\n",
    "    for b in range(1, n + 1):\n",
    "        if a == b:\n",
    "            graph[a][b] = 0\n",
    "\n",
    "# 각 간선에 대한 정보를 입력 받아, 그 값으로 초기화\n",
    "for _ in range(m):\n",
    "    # A에서 B로 가는 비용은 C라고 설정\n",
    "    a, b, c = map(int, input().split())\n",
    "    graph[a][b] = c\n",
    "\n",
    "# 점화식에 따라 플로이드 워셜 알고리즘을 수행\n",
    "for k in range(1, n + 1):\n",
    "    for a in range(1, n + 1):\n",
    "        for b in range(1, n + 1):\n",
    "            graph[a][b] = min(graph[a][b], graph[a][k] + graph[k][b])\n",
    "\n",
    "# 수행된 결과를 출력\n",
    "for a in range(1, n + 1):\n",
    "    for b in range(1, n + 1):\n",
    "        # 도달할 수 없는 경우, 무한(INFINITY)이라고 출력\n",
    "        if graph[a][b] == 1e9:\n",
    "            print(\"INFINITY\", end=\" \")\n",
    "        # 도달할 수 있는 경우 거리를 출력\n",
    "        else:\n",
    "            print(graph[a][b], end=\" \")\n",
    "    print()\n"
   ]
  },
  {
   "cell_type": "code",
   "execution_count": null,
   "id": "dominican-efficiency",
   "metadata": {},
   "outputs": [],
   "source": []
  }
 ],
 "metadata": {
  "kernelspec": {
   "display_name": "Python 3",
   "language": "python",
   "name": "python3"
  },
  "language_info": {
   "codemirror_mode": {
    "name": "ipython",
    "version": 3
   },
   "file_extension": ".py",
   "mimetype": "text/x-python",
   "name": "python",
   "nbconvert_exporter": "python",
   "pygments_lexer": "ipython3",
   "version": "3.7.9"
  }
 },
 "nbformat": 4,
 "nbformat_minor": 5
}
