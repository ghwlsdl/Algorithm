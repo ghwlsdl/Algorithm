{
 "cells": [
  {
   "cell_type": "markdown",
   "id": "outer-sheet",
   "metadata": {},
   "source": [
    "# 1. 범위를 반씩 좁혀가는 탐색\n",
    "\n",
    "## 순차 탐색\n",
    "\n",
    "**순차 탐색** 이란, 리스트 안에 특정한 데이터를 찾기 위해 앞에서부터 데이터를 하나씩 차례대로 확인하는 방법이다."
   ]
  },
  {
   "cell_type": "code",
   "execution_count": 1,
   "id": "clinical-geometry",
   "metadata": {},
   "outputs": [
    {
     "name": "stdout",
     "output_type": "stream",
     "text": [
      "생성할 원소 개수를 입력한 다음 한 칸 띄고 찾을 문자열을 입력하세요.\n",
      "5 Dongbin\n",
      "앞서 적은 원소 개수만큼 문자열을 입력하세요. 구분은 띄어쓰기 한 칸으로 합니다.\n",
      "Hanul Jonggu Dongbin Taeil Sangwook\n",
      "3\n"
     ]
    }
   ],
   "source": [
    "# 7-1. py 순차 탐색 소스코드\n",
    "\n",
    "# 순차 탐색 소스코드 구현\n",
    "def sequential_search(n, target, array):\n",
    "    # 각 원소를 하나씩 확인하며\n",
    "    for i in range(n):\n",
    "        # 현재의 원소가 찾고자 하는 원소와 동일한 경우\n",
    "        if array[i] == target:\n",
    "            return i + 1 # 현재의 위치 반환(인덱스는 0부터 시작하므로 1 더하기)\n",
    "        \n",
    "print(\"생성할 원소 개수를 입력한 다음 한 칸 띄고 찾을 문자열을 입력하세요.\")\n",
    "\n",
    "input_data = input().split()\n",
    "n = int(input_data[0]) # 원소의 개수\n",
    "target = input_data[1] # 찾고자 하는 문자열\n",
    "\n",
    "print(\"앞서 적은 원소 개수만큼 문자열을 입력하세요. 구분은 띄어쓰기 한 칸으로 합니다.\")\n",
    "array = input().split()\n",
    "\n",
    "# 순차 탐색 수행 결과 출력\n",
    "print(sequential_search(n, target, array))"
   ]
  },
  {
   "cell_type": "markdown",
   "id": "comparative-lending",
   "metadata": {},
   "source": [
    "## 이진 탐색 : 반으로 쪼개면서 탐색하기\n",
    "\n",
    "**이진 탐색** 이란, 배열 내부의 데이터가 정렬되어 있어야만 사용할 수 있는 알고리즘입니다."
   ]
  },
  {
   "cell_type": "code",
   "execution_count": 3,
   "id": "unable-drove",
   "metadata": {},
   "outputs": [
    {
     "name": "stdout",
     "output_type": "stream",
     "text": [
      "10 7\n",
      "1 3 5 7 9 11 13 15 17 19\n",
      "4\n"
     ]
    }
   ],
   "source": [
    "# 7-2. py 재귀 함수로 구현한 이진 탐색 소스코드\n",
    "\n",
    "# 이진 탐색 소스코드 구현(재귀 함수)\n",
    "def binary_search(array, target, start, end):\n",
    "    if start > end:\n",
    "        return None\n",
    "    mid = (start + end) // 2 # 중간점을 의미이며 2로 나눈 몫만 구하기 위해 몫 연산자 (//) 를 사용한 것입니다.\n",
    "    # 찾은 경우 중간점 인덱스 반환\n",
    "    if array[mid] == target:\n",
    "        return mid\n",
    "    # 중간점의 값보다 찾고자 하는 값이 작은 경우 왼쪽 확인\n",
    "    elif array[mid] > target:\n",
    "        return binary_search(array, target, start, mid - 1)\n",
    "    # 중간점의 값보다 찾고자 하는 값이 큰 경우 오른쪽 확인\n",
    "    else:\n",
    "        return binary_search(array, target, mid + 1, end)\n",
    "    \n",
    "# n(원소의 개수)과 target(찾고자 하는 문자열)을 입력받기\n",
    "n, target = list(map(int, input().split()))\n",
    "# 전체 원소 입력받기\n",
    "array = list(map(int, input().split()))\n",
    "\n",
    "# 이진 탐색 수행 결과 출력\n",
    "result = binary_search(array, target, 0, n - 1)\n",
    "if result == None:\n",
    "    print(\"원소가 존재하지 않습니다.\")\n",
    "else:\n",
    "    print(result + 1)"
   ]
  },
  {
   "cell_type": "code",
   "execution_count": 4,
   "id": "helpful-relay",
   "metadata": {},
   "outputs": [
    {
     "name": "stdout",
     "output_type": "stream",
     "text": [
      "10 7\n",
      "1 3 5 7 9 11 13 15 17 19\n",
      "4\n"
     ]
    }
   ],
   "source": [
    "# 7-3. py 반복문으로 구현한 이진 탐색 소스코드\n",
    "\n",
    "# 이진 탐색 소스코드 구현 (반복문)\n",
    "def binary_search(array, target, start, end):\n",
    "    while start <= end:\n",
    "        mid = (start + end) // 2\n",
    "        # 찾은 경우 중간점 인덱스 반환\n",
    "        if array[mid] == target:\n",
    "            return mid\n",
    "        # 중간점의 값보다 찾고자 하는 값이 작은 경우 왼쪽 확인\n",
    "        elif array[mid] > target:\n",
    "            end = mid - 1\n",
    "        # 중간점의 값보다 찾고자 하는 값이 큰 경우 오른쪽 확인\n",
    "        else:\n",
    "            start = mid + 1\n",
    "    return None\n",
    "\n",
    "# n(원소의 개수)과 target(찾고자 하는 값)을 입력 받기\n",
    "n, target = list(map(int, input().split()))\n",
    "# 전체 원소 입력 받기\n",
    "array = list(map(int, input().split()))\n",
    "\n",
    "# 이진 탐색 수행 결과 출력\n",
    "result = binary_search(array, target, 0, n - 1)\n",
    "if result == None:\n",
    "    print(\"원소가 존재하지 않습니다.\")\n",
    "else:\n",
    "    print(result + 1)"
   ]
  },
  {
   "cell_type": "code",
   "execution_count": 7,
   "id": "mental-address",
   "metadata": {},
   "outputs": [
    {
     "name": "stdout",
     "output_type": "stream",
     "text": [
      "\n"
     ]
    }
   ],
   "source": [
    "# 7-4. py 한 줄 입력받아 출력하는 소스코드\n",
    "\n",
    "import sys\n",
    "\n",
    "# 하나의 문자열 데이터 입력 받기\n",
    "input_data = sys.stdin.readline().rstrip()\n",
    "\n",
    "# 입력 받은 문자열 그대로 출력하기\n",
    "print(input_data)"
   ]
  },
  {
   "cell_type": "code",
   "execution_count": 8,
   "id": "musical-encounter",
   "metadata": {},
   "outputs": [
    {
     "name": "stdout",
     "output_type": "stream",
     "text": [
      "5\n",
      "8 3 7 9 2\n",
      "3\n",
      "5 7 9\n",
      "no yes yes "
     ]
    }
   ],
   "source": [
    "# 2. 실전 문제 부품찾기 - 풀이 1\n",
    "\n",
    "# 7-5. py 답안 예시 (이진 탐색)\n",
    "\n",
    "# 이진 탐색 소스코드 구현 (반복문)\n",
    "def binary_search(array, target, start, end):\n",
    "    while start <= end:\n",
    "        mid = (start + end) // 2\n",
    "        # 찾은 경우 중간점 인덱스 반환\n",
    "        if array[mid] == target:\n",
    "            return mid\n",
    "        # 중간점의 값보다 찾고자 하는 값이 작은 경우 왼쪽 확인\n",
    "        elif array[mid] > target:\n",
    "            end = mid - 1\n",
    "        # 중간점의 값보다 찾고자 하는 값이 작은 경우 오른쪽 확인\n",
    "        else:\n",
    "            start = mid + 1\n",
    "    return None\n",
    "\n",
    "# N(가게의 부품 개수) 입력\n",
    "n = int(input())\n",
    "# 가게에 있는 전체 부품 번호를 공백을 기준으로 구분하여 입력\n",
    "array = list(map(int, input().split()))\n",
    "array.sort() # 이진 탐색을 수행하기 위해 사전에 정렬 수행\n",
    "# M(손님이 확인 요청한 부품 개수) 입력\n",
    "m = int(input())\n",
    "# 손님이 확인 요청한 전체 부품 번호를 공백을 기준으로 구분하여 입력\n",
    "x = list(map(int, input().split()))\n",
    "\n",
    "# 손님이 확인 요청한 부품 번호를 하나씩 확인\n",
    "for i in x:\n",
    "    # 해당 부품이 존재하는지 확인\n",
    "    result = binary_search(array, i, 0, n - 1)\n",
    "    if result != None:\n",
    "        print('yes', end=' ')\n",
    "    else:\n",
    "        print('no', end=' ')"
   ]
  },
  {
   "cell_type": "code",
   "execution_count": 9,
   "id": "royal-rotation",
   "metadata": {},
   "outputs": [
    {
     "name": "stdout",
     "output_type": "stream",
     "text": [
      "5\n",
      "8 3 7 9 2\n",
      "3\n",
      "5 7 9\n",
      "no yes yes "
     ]
    }
   ],
   "source": [
    "# 2. 실전문제 - 풀이 2\n",
    "\n",
    "# 7-6. py 답안 예시(계수 정렬)\n",
    "\n",
    "# N(가게의 부품 개수) 입력\n",
    "n = int(input())\n",
    "array = [0] * 1000001\n",
    "\n",
    "# 가게에 있는 전체 부품 번호를 입력 받아서 기록\n",
    "for i in input().split():\n",
    "    array[int(i)] = 1\n",
    "\n",
    "# M(손님이 확인 요청한 부품 개수) 입력\n",
    "m = int(input())\n",
    "# 손님이 확인 요청한 전체 부품 번호를 공백을 기준으로 구분하여 입력\n",
    "x = list(map(int, input().split()))\n",
    "\n",
    "# 손님이 확인 요청한 부품 번호를 하나씩 확인\n",
    "for i in x:\n",
    "    # 해당 부품이 존재하는지 확인\n",
    "    if array[i] == 1:\n",
    "        print('yes', end=' ')\n",
    "    else:\n",
    "        print('no', end=' ')"
   ]
  },
  {
   "cell_type": "code",
   "execution_count": 10,
   "id": "worst-canberra",
   "metadata": {},
   "outputs": [
    {
     "name": "stdout",
     "output_type": "stream",
     "text": [
      "5\n",
      "8 3 7 9 2\n",
      "3\n",
      "5 7 9\n",
      "no yes yes "
     ]
    }
   ],
   "source": [
    "# 2. 실전문제 - 풀이 3\n",
    "\n",
    "# 7-7. py 답안 예시 (집합 자료형 이용)\n",
    "\n",
    "# N(가게의 부품 개수) 입력\n",
    "n = int(input())\n",
    "# 가게에 있는 전체 부품 번호를 입력 받아서 집합(Set) 자료형에 기록\n",
    "array = set(map(int, input().split()))\n",
    "\n",
    "# M(손님이 확인 요청한 부품 개수) 입력\n",
    "m = int(input())\n",
    "# 손님이 확인 요청한 전체 부품 번호를 공백을 기준으로 구분하여 입력\n",
    "x = list(map(int, input().split()))\n",
    "\n",
    "# 손님이 확인 요청한 부품 번호를 하나씩 확인\n",
    "for i in x:\n",
    "    # 해당 부품이 존재하는지 확인\n",
    "    if i in array:\n",
    "        print('yes', end=' ')\n",
    "    else:\n",
    "        print('no', end=' ')"
   ]
  },
  {
   "cell_type": "code",
   "execution_count": null,
   "id": "rational-immune",
   "metadata": {},
   "outputs": [],
   "source": [
    "# 3. 실전문제 떡볶이 떡 만들기\n"
   ]
  }
 ],
 "metadata": {
  "kernelspec": {
   "display_name": "Python 3",
   "language": "python",
   "name": "python3"
  },
  "language_info": {
   "codemirror_mode": {
    "name": "ipython",
    "version": 3
   },
   "file_extension": ".py",
   "mimetype": "text/x-python",
   "name": "python",
   "nbconvert_exporter": "python",
   "pygments_lexer": "ipython3",
   "version": "3.7.9"
  }
 },
 "nbformat": 4,
 "nbformat_minor": 5
}
